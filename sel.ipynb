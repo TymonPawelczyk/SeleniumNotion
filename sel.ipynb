{
 "cells": [
  {
   "cell_type": "code",
   "execution_count": null,
   "metadata": {},
   "outputs": [],
   "source": [
    "from selenium import webdriver\n",
    "from selenium.webdriver.chrome.options import Options\n",
    "from selenium.webdriver.chrome.service import Service\n",
    "from webdriver_manager.chrome import ChromeDriverManager\n",
    "import time \n",
    "from selenium.webdriver.common.by import By\n",
    "\n",
    "options = Options()\n",
    "# options.add_argument('--headless')\n",
    "# options.add_argument('--no-sandbox')\n",
    "options.add_argument('--disable-dev-shm-usage')\n",
    "driver = webdriver.Chrome(service=Service(ChromeDriverManager().install()), options=options)\n",
    "\n",
    "driver.get(\"https://www.notion.so/92e09cd2ec0c46bc91187b9a9676d14e?v=074eebad943b453fbc7f29b3dc671eb1\")\n",
    "print(driver.title)"
   ]
  },
  {
   "cell_type": "code",
   "execution_count": null,
   "metadata": {},
   "outputs": [],
   "source": []
  },
  {
   "cell_type": "code",
   "execution_count": null,
   "metadata": {},
   "outputs": [],
   "source": [
    "from selenium.webdriver.common.by import By\n",
    "from selenium.webdriver.support import expected_conditions\n",
    "from selenium.webdriver.support.ui import WebDriverWait\n",
    "from selenium.webdriver.common.keys import Keys\n",
    "from selenium import webdriver\n",
    "from selenium.webdriver.common.action_chains import ActionChains\n",
    "from selenium.webdriver.common.keys import Keys\n",
    "\n",
    "\n",
    "\n",
    "first = '''//*[@id=\"notion-app\"]/div/div[1]/div/div[2]/main/div/div[5]/div/div/div/div/div[2]/div[7]'''\n",
    "second = '''//*[@id=\"notion-app\"]/div/div[1]/div/div[2]/main/div/div[5]/div/div/div/div/div[1]/div[6]'''\n",
    "actions = ActionChains(driver)\n",
    "\n",
    "\n",
    "driver.find_element(By.XPATH, first).click()\n",
    "# driver.find_element(By.XPATH, '''//*[@id=\"notion-app\"]/div/div[2]/div[2]/div/div[2]/div[2]/div/div/div/div/div/div''').click().clear()\n",
    "actions.send_keys(Keys.BACKSPACE)\n",
    "actions.send_keys(Keys.BACKSPACE)\n",
    "actions.send_keys(Keys.BACKSPACE)\n",
    "actions.send_keys(Keys.BACKSPACE)\n",
    "actions.send_keys('Architektura komputerów')\n",
    "\n",
    "actions.send_keys(Keys.ENTER)\n",
    "actions.perform()\n",
    "\n"
   ]
  },
  {
   "cell_type": "code",
   "execution_count": null,
   "metadata": {},
   "outputs": [],
   "source": [
    "# //*[@id=\"notion-app\"]/div/div[1]/div/div[2]/main/div/div[5]/div/div/div/div/div[1]/div[6]\n",
    "# //*[@id=\"notion-app\"]/div/div[1]/div/div[2]/main/div/div[5]/div/div/div/div/div[1]/div[6]\n",
    "import io\n",
    "import csv\n",
    "import re\n",
    "import pandas as pd\n",
    "\n",
    "kolumny = []\n",
    "komorki = []\n",
    "\n",
    "\n",
    "with open(\"pytania.txt\", \"r\", encoding=\"utf-8\") as file1:\n",
    "    read_content = file1.readlines()\n",
    "    for i in read_content:\n",
    "        \n",
    "        try:\n",
    "            x = int(i[0:1])\n",
    "            if isinstance(x, int):\n",
    "                # print('komorki')\n",
    "                komorki.append(i)\n",
    "        except:\n",
    "            # print('Kolumna')\n",
    "            if re.match('[^a-z]',i[0:2]):\n",
    "                kolumny.append(i)\n",
    "            else:\n",
    "                komorki.append(i)\n",
    "\n",
    "\n",
    "print(kolumny)\n",
    "\n",
    "\n",
    "new_list = [item.strip() for item in kolumny]\n",
    "print(new_list)\n",
    "\n",
    "new_list2 = [item.strip() for item in komorki]\n",
    "print(new_list2)\n"
   ]
  },
  {
   "cell_type": "code",
   "execution_count": null,
   "metadata": {},
   "outputs": [],
   "source": [
    "for i in new_list2[2:]:\n",
    "    driver.find_element(By.CLASS_NAME, \"notion-table-view-add-row\").click()\n",
    "\n",
    "    actions.send_keys(Keys.BACKSPACE)\n",
    "    actions.send_keys(Keys.BACKSPACE)\n",
    "    actions.send_keys(Keys.BACKSPACE)\n",
    "    actions.send_keys(Keys.BACKSPACE)\n",
    "\n",
    "    actions.send_keys(i)\n",
    "    actions.send_keys(Keys.ENTER)\n",
    "    actions.perform()\n",
    "    \n"
   ]
  },
  {
   "cell_type": "code",
   "execution_count": null,
   "metadata": {},
   "outputs": [],
   "source": [
    "new_list2"
   ]
  },
  {
   "cell_type": "code",
   "execution_count": null,
   "metadata": {},
   "outputs": [],
   "source": [
    "data = {key: [] for key in new_list}\n",
    "data['Architektura komputerów'].extend(new_list2[:8])\n",
    "data['Systemy operacyjne i programowanie systemowe'].extend(new_list2[8:16])\n",
    "data['Sieci komputerowe'].extend(new_list2[16:24])\n",
    "data['Algorytmy i struktury danych'].extend(new_list2[24:44])\n",
    "data['Programowanie'].extend(new_list2[44:59])\n",
    "data['Bazy danych'].extend(new_list2[59:70])\n",
    "data['Elementy grafiki komputerowej'].extend(new_list2[70:80])\n",
    "data['Podstawy Sztucznej Inteligencji'].extend(komorki[80:90])"
   ]
  },
  {
   "cell_type": "code",
   "execution_count": null,
   "metadata": {},
   "outputs": [],
   "source": [
    "data"
   ]
  },
  {
   "cell_type": "code",
   "execution_count": null,
   "metadata": {},
   "outputs": [],
   "source": [
    "subitem = '//*[@id=\"notion-app\"]/div/div[1]/div/div[2]/main/div/div[5]/div/div/div/div/div[1]/div[4]/div[4]'\n",
    "subitem = '//*[@id=\"notion-app\"]/div/div[1]/div/div[2]/main/div/div[5]/div/div/div/div/div[1]/div[4]/div[5]'\n",
    "for key in data.keys():\n",
    "    for value in data[key]:\n",
    "        print(key, value)\n",
    "        print(index)\n",
    "        if key == 'Architektura komputerów':\n",
    "            if index == 6:\n",
    "                index += 1\n",
    "                pass\n",
    "            driver.find_element(By.XPATH, f'//*[@id=\"notion-app\"]/div/div[1]/div/div[2]/main/div/div[5]/div/div/div/div/div[1]/div[4]/div[{index}]').click()\n",
    "            \n",
    "            actions.send_keys(Keys.BACKSPACE)\n",
    "            actions.send_keys(Keys.BACKSPACE)\n",
    "            actions.send_keys(Keys.BACKSPACE)\n",
    "            actions.send_keys(Keys.BACKSPACE)\n",
    "\n",
    "            actions.send_keys(value)\n",
    "            actions.send_keys(Keys.ENTER)\n",
    "            actions.perform()\n",
    "            index += 1\n",
    "            \n",
    "        else:\n",
    "            pass\n",
    "    "
   ]
  },
  {
   "cell_type": "code",
   "execution_count": null,
   "metadata": {},
   "outputs": [],
   "source": [
    "#notion-app > div > div:nth-child(1) > div > div:nth-child(3) > main > div > div:nth-child(5) > div > div > div > div > div:nth-child(1) > div:nth-child(4) > div:nth-child(4)"
   ]
  }
 ],
 "metadata": {
  "kernelspec": {
   "display_name": "Python 3",
   "language": "python",
   "name": "python3"
  },
  "language_info": {
   "codemirror_mode": {
    "name": "ipython",
    "version": 3
   },
   "file_extension": ".py",
   "mimetype": "text/x-python",
   "name": "python",
   "nbconvert_exporter": "python",
   "pygments_lexer": "ipython3",
   "version": "3.10.12"
  }
 },
 "nbformat": 4,
 "nbformat_minor": 2
}
